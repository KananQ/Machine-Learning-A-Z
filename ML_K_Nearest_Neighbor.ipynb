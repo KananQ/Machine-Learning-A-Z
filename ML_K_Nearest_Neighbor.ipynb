{
  "nbformat": 4,
  "nbformat_minor": 0,
  "metadata": {
    "colab": {
      "provenance": []
    },
    "kernelspec": {
      "name": "python3",
      "display_name": "Python 3"
    },
    "language_info": {
      "name": "python"
    }
  },
  "cells": [
    {
      "cell_type": "code",
      "execution_count": 1,
      "metadata": {
        "id": "e9e97wCIyXMg"
      },
      "outputs": [],
      "source": [
        "#KNN\n",
        "\n",
        "import numpy as np\n",
        "import matplotlib.pyplot as plt\n",
        "import pandas as pd\n"
      ]
    },
    {
      "cell_type": "code",
      "source": [
        "dataset = pd.read_csv('/content/Social_Network_Ads.csv')\n",
        "X = dataset.iloc[:, :-1]\n",
        "y = dataset.iloc[:, -1]"
      ],
      "metadata": {
        "id": "4gsmoLIS9tJq"
      },
      "execution_count": 2,
      "outputs": []
    },
    {
      "cell_type": "code",
      "source": [
        "from sklearn.model_selection import train_test_split\n",
        "X_train, X_test, y_train, y_test = train_test_split(X, y, test_size=0.25, random_state=42)"
      ],
      "metadata": {
        "id": "2DnmZHx997C6"
      },
      "execution_count": 5,
      "outputs": []
    },
    {
      "cell_type": "code",
      "source": [
        "print(X_train)"
      ],
      "metadata": {
        "colab": {
          "base_uri": "https://localhost:8080/"
        },
        "id": "5B-b6mHo-e4l",
        "outputId": "a7159551-6d5b-4024-bdcf-dada88c4e17a"
      },
      "execution_count": 6,
      "outputs": [
        {
          "output_type": "stream",
          "name": "stdout",
          "text": [
            "     Age  EstimatedSalary\n",
            "247   57           122000\n",
            "110   39            71000\n",
            "16    47            25000\n",
            "66    24            19000\n",
            "153   36            50000\n",
            "..   ...              ...\n",
            "71    24            27000\n",
            "106   26            35000\n",
            "270   43           133000\n",
            "348   39            77000\n",
            "102   32            86000\n",
            "\n",
            "[300 rows x 2 columns]\n"
          ]
        }
      ]
    },
    {
      "cell_type": "code",
      "source": [
        "#Feature Scaling\n",
        "\n",
        "from sklearn.preprocessing import StandardScaler\n",
        "sc = StandardScaler()\n",
        "X_train = sc.fit_transform(X_train)\n",
        "X_test = sc.transform(X_test)"
      ],
      "metadata": {
        "id": "U3N5OGv9-nCC"
      },
      "execution_count": 7,
      "outputs": []
    },
    {
      "cell_type": "code",
      "source": [
        "print(X_train)"
      ],
      "metadata": {
        "colab": {
          "base_uri": "https://localhost:8080/"
        },
        "id": "XT7xKHdv-5_f",
        "outputId": "1b0656d2-b884-462f-9693-9c9b8e50f0b0"
      },
      "execution_count": 8,
      "outputs": [
        {
          "output_type": "stream",
          "name": "stdout",
          "text": [
            "[[ 1.8925893   1.52189404]\n",
            " [ 0.1250379   0.03213212]\n",
            " [ 0.9106163  -1.31157471]\n",
            " [-1.34792161 -1.48684082]\n",
            " [-0.169554   -0.58129926]\n",
            " [-0.56234321  2.33980255]\n",
            " [ 1.0088136  -1.19473064]\n",
            " [-0.75873781  1.08372877]\n",
            " [ 2.1871812  -1.04867555]\n",
            " [ 0.0268406  -0.25997806]\n",
            " [-0.46414591 -1.1363086 ]\n",
            " [ 0.1250379   0.03213212]\n",
            " [ 1.6961947  -0.90262046]\n",
            " [ 1.1070109  -0.90262046]\n",
            " [ 0.5178271   1.22978386]\n",
            " [-1.05332971 -1.4576298 ]\n",
            " [-1.15152701 -1.54526286]\n",
            " [-0.0713567   0.67477452]\n",
            " [ 0.4196298  -0.46445519]\n",
            " [-0.2677513  -0.25997806]\n",
            " [-0.85693511  0.14897619]\n",
            " [ 0.0268406   0.29503128]\n",
            " [ 0.7142217  -1.28236369]\n",
            " [ 1.5979974   1.11293979]\n",
            " [ 0.812419   -1.36999675]\n",
            " [-1.44611891 -1.22394166]\n",
            " [-0.0713567   0.14897619]\n",
            " [ 0.4196298  -0.14313399]\n",
            " [-0.2677513   0.03213212]\n",
            " [ 1.3034055   2.22295848]\n",
            " [ 0.1250379   0.76240757]\n",
            " [-1.34792161  0.55793045]\n",
            " [ 1.9907866   0.73319655]\n",
            " [-1.24972431 -1.39920777]\n",
            " [ 0.3214325  -0.3184001 ]\n",
            " [-0.95513241  0.55793045]\n",
            " [ 0.4196298   0.29503128]\n",
            " [ 0.4196298   1.11293979]\n",
            " [ 0.812419    0.76240757]\n",
            " [ 0.9106163   1.25899488]\n",
            " [-0.46414591 -1.22394166]\n",
            " [-1.83890811 -1.31157471]\n",
            " [ 1.1070109   0.55793045]\n",
            " [-0.66054051 -1.60368489]\n",
            " [-0.75873781  0.26582026]\n",
            " [ 1.0088136   2.07690339]\n",
            " [-0.56234321  1.37583895]\n",
            " [-0.0713567   0.03213212]\n",
            " [-1.93710541  0.47029739]\n",
            " [ 0.4196298   0.26582026]\n",
            " [-1.05332971  0.41187535]\n",
            " [ 0.2232352  -0.14313399]\n",
            " [ 1.8925893   0.11976517]\n",
            " [-1.15152701 -1.60368489]\n",
            " [-1.15152701  0.29503128]\n",
            " [-0.85693511 -0.78577639]\n",
            " [-0.46414591  2.31059153]\n",
            " [ 0.1250379  -0.8149874 ]\n",
            " [ 1.5979974   0.99609572]\n",
            " [-0.169554   -1.07788657]\n",
            " [ 0.812419   -1.10709759]\n",
            " [ 0.2232352   2.1061144 ]\n",
            " [-0.0713567  -0.23076704]\n",
            " [-0.85693511  2.28138051]\n",
            " [-0.0713567  -0.37682213]\n",
            " [-0.2677513  -0.58129926]\n",
            " [ 0.4196298  -0.49366621]\n",
            " [-0.2677513  -0.93183148]\n",
            " [ 0.3214325  -1.16551962]\n",
            " [ 0.2232352   0.06134314]\n",
            " [-1.15152701 -1.60368489]\n",
            " [-0.66054051 -0.05550093]\n",
            " [-0.2677513  -0.49366621]\n",
            " [-0.2677513  -1.31157471]\n",
            " [-0.75873781  0.55793045]\n",
            " [ 0.3214325   0.06134314]\n",
            " [-0.95513241  1.55110506]\n",
            " [ 0.812419    0.35345332]\n",
            " [-1.54431621 -0.20155602]\n",
            " [ 0.7142217  -1.39920777]\n",
            " [-0.75873781 -0.61051028]\n",
            " [-0.36594861 -1.31157471]\n",
            " [ 0.2232352   0.14897619]\n",
            " [-0.56234321  1.37583895]\n",
            " [-1.44611891  0.35345332]\n",
            " [-1.15152701  0.29503128]\n",
            " [ 1.0088136   1.7847932 ]\n",
            " [ 2.0889839   2.13532542]\n",
            " [-0.2677513  -0.43524417]\n",
            " [-0.36594861 -0.78577639]\n",
            " [ 0.1250379  -0.25997806]\n",
            " [-1.05332971  0.76240757]\n",
            " [ 2.1871812   0.38266434]\n",
            " [-1.34792161 -0.43524417]\n",
            " [ 1.9907866   2.16453644]\n",
            " [ 1.4998001   0.99609572]\n",
            " [-0.2677513   0.26582026]\n",
            " [-0.169554    0.85004063]\n",
            " [ 1.8925893  -0.28918908]\n",
            " [-0.0713567   1.96005931]\n",
            " [-0.46414591 -0.78577639]\n",
            " [ 0.3214325   0.03213212]\n",
            " [ 1.4016028  -1.42841878]\n",
            " [ 1.4016028   2.33980255]\n",
            " [-0.0713567   0.0029211 ]\n",
            " [-1.15152701  0.41187535]\n",
            " [-1.15152701  0.06134314]\n",
            " [-1.15152701 -0.52287722]\n",
            " [ 0.3214325  -0.28918908]\n",
            " [-0.66054051 -0.11392297]\n",
            " [-0.0713567   2.16453644]\n",
            " [ 0.0268406  -0.25997806]\n",
            " [-0.66054051 -1.04867555]\n",
            " [ 0.4196298   0.14897619]\n",
            " [ 0.812419    1.37583895]\n",
            " [-0.169554   -0.52287722]\n",
            " [ 0.0268406   0.03213212]\n",
            " [ 1.1070109   0.52871943]\n",
            " [ 1.8925893  -1.07788657]\n",
            " [ 1.0088136   1.98927033]\n",
            " [ 0.9106163  -0.58129926]\n",
            " [-0.46414591 -0.02628992]\n",
            " [-0.0713567   2.22295848]\n",
            " [-1.74071081  0.35345332]\n",
            " [ 0.2232352  -0.66893231]\n",
            " [-0.2677513  -1.39920777]\n",
            " [-1.74071081 -0.99025351]\n",
            " [ 0.7142217  -0.72735435]\n",
            " [-1.15152701 -0.78577639]\n",
            " [ 1.9907866   0.90846266]\n",
            " [ 0.2232352  -0.37682213]\n",
            " [ 0.0268406   1.22978386]\n",
            " [-0.0713567   0.29503128]\n",
            " [ 1.1070109  -1.22394166]\n",
            " [-0.169554    0.14897619]\n",
            " [ 0.3214325   0.06134314]\n",
            " [-0.2677513  -0.28918908]\n",
            " [ 0.5178271   1.72637117]\n",
            " [ 0.3214325   0.49950841]\n",
            " [ 0.0268406   1.25899488]\n",
            " [ 1.9907866  -1.36999675]\n",
            " [-1.15152701 -1.10709759]\n",
            " [-0.56234321 -1.51605184]\n",
            " [ 0.3214325  -0.52287722]\n",
            " [-0.66054051 -1.51605184]\n",
            " [-0.2677513   0.52871943]\n",
            " [ 1.0088136  -1.01946453]\n",
            " [-1.05332971  0.55793045]\n",
            " [-0.2677513   0.79161859]\n",
            " [ 0.4196298   0.09055416]\n",
            " [-1.64251351 -0.05550093]\n",
            " [ 0.3214325   0.06134314]\n",
            " [-0.46414591 -0.28918908]\n",
            " [ 0.1250379   1.87242626]\n",
            " [-0.95513241  0.41187535]\n",
            " [ 0.812419    0.52871943]\n",
            " [-1.34792161 -0.34761112]\n",
            " [-0.66054051  1.40504997]\n",
            " [ 1.2052082   0.52871943]\n",
            " [-1.74071081  0.35345332]\n",
            " [-0.56234321  1.90163728]\n",
            " [-1.74071081  0.47029739]\n",
            " [-0.2677513  -1.25315268]\n",
            " [-0.85693511 -0.78577639]\n",
            " [-1.64251351  0.52871943]\n",
            " [-0.2677513  -0.3184001 ]\n",
            " [ 0.7142217  -1.10709759]\n",
            " [ 2.1871812  -0.8149874 ]\n",
            " [-0.2677513   0.61635248]\n",
            " [-0.2677513  -0.75656537]\n",
            " [-1.93710541 -0.75656537]\n",
            " [ 0.4196298   2.31059153]\n",
            " [ 0.7142217   0.26582026]\n",
            " [ 0.2232352  -0.28918908]\n",
            " [-1.34792161 -1.36999675]\n",
            " [-0.46414591 -0.55208824]\n",
            " [ 0.4196298   0.0029211 ]\n",
            " [ 1.6961947   1.75558219]\n",
            " [ 1.2052082  -0.75656537]\n",
            " [ 1.0088136   1.43426099]\n",
            " [-1.83890811  0.17818721]\n",
            " [ 0.3214325   0.06134314]\n",
            " [ 0.2232352   0.03213212]\n",
            " [-1.05332971  0.52871943]\n",
            " [-0.169554    1.63873811]\n",
            " [-0.2677513   0.14897619]\n",
            " [-0.2677513  -0.34761112]\n",
            " [-0.36594861  1.31741692]\n",
            " [-0.2677513   0.09055416]\n",
            " [ 2.1871812   1.11293979]\n",
            " [-1.24972431  0.49950841]\n",
            " [-1.05332971 -0.46445519]\n",
            " [-1.64251351 -1.57447387]\n",
            " [-0.0713567   0.11976517]\n",
            " [-0.2677513  -0.90262046]\n",
            " [ 1.5979974   0.0029211 ]\n",
            " [ 0.9106163  -1.16551962]\n",
            " [ 0.0268406  -0.58129926]\n",
            " [-0.2677513   2.25216949]\n",
            " [-0.2677513   0.20739823]\n",
            " [ 0.3214325   0.26582026]\n",
            " [-0.0713567  -1.07788657]\n",
            " [ 2.1871812  -0.69814333]\n",
            " [-0.95513241 -0.3184001 ]\n",
            " [-1.44611891 -0.11392297]\n",
            " [-1.44611891 -0.20155602]\n",
            " [-0.75873781 -1.54526286]\n",
            " [-1.24972431 -1.07788657]\n",
            " [ 2.0889839   0.38266434]\n",
            " [ 1.9907866  -0.93183148]\n",
            " [-1.93710541  0.35345332]\n",
            " [ 0.812419   -0.3184001 ]\n",
            " [-1.05332971 -1.54526286]\n",
            " [ 1.9907866  -0.66893231]\n",
            " [ 1.0088136  -1.16551962]\n",
            " [ 1.1070109  -0.14313399]\n",
            " [ 1.2052082  -0.99025351]\n",
            " [ 1.4998001   0.06134314]\n",
            " [ 0.2232352  -0.37682213]\n",
            " [ 1.4016028   1.2882059 ]\n",
            " [ 2.0889839  -0.8149874 ]\n",
            " [-0.169554   -0.20155602]\n",
            " [ 0.4196298   0.99609572]\n",
            " [-0.0713567  -0.52287722]\n",
            " [ 1.0088136  -1.07788657]\n",
            " [ 2.0889839  -1.19473064]\n",
            " [-0.0713567   0.26582026]\n",
            " [ 0.2232352  -0.25997806]\n",
            " [ 1.1070109   0.11976517]\n",
            " [-1.24972431  0.58714146]\n",
            " [-0.75873781 -1.60368489]\n",
            " [ 0.2232352   0.23660925]\n",
            " [-1.34792161  0.41187535]\n",
            " [ 0.0268406  -0.58129926]\n",
            " [ 0.7142217   1.7847932 ]\n",
            " [-1.64251351  0.06134314]\n",
            " [-0.2677513  -1.36999675]\n",
            " [-0.2677513  -1.4576298 ]\n",
            " [-0.66054051  0.55793045]\n",
            " [-0.75873781  0.29503128]\n",
            " [ 0.9106163  -0.66893231]\n",
            " [-1.05332971  0.58714146]\n",
            " [-0.2677513   0.06134314]\n",
            " [-0.75873781  1.34662793]\n",
            " [ 0.1250379   1.52189404]\n",
            " [-0.85693511  0.38266434]\n",
            " [ 0.3214325  -0.20155602]\n",
            " [ 1.0088136   0.58714146]\n",
            " [ 0.0268406  -0.3184001 ]\n",
            " [-0.56234321 -1.51605184]\n",
            " [ 0.1250379   0.14897619]\n",
            " [-1.15152701  0.3242423 ]\n",
            " [ 0.1250379   1.05451775]\n",
            " [-1.54431621 -0.43524417]\n",
            " [-0.169554    1.40504997]\n",
            " [ 2.1871812  -0.8149874 ]\n",
            " [-0.95513241 -0.43524417]\n",
            " [ 1.3034055   1.87242626]\n",
            " [ 1.1070109  -1.22394166]\n",
            " [-0.169554   -0.28918908]\n",
            " [ 1.794392    0.99609572]\n",
            " [-1.05332971 -0.34761112]\n",
            " [-1.34792161 -1.10709759]\n",
            " [-0.36594861  0.06134314]\n",
            " [-0.95513241 -1.10709759]\n",
            " [ 1.2052082  -1.4576298 ]\n",
            " [-0.46414591 -0.84419842]\n",
            " [-0.85693511 -0.66893231]\n",
            " [-1.54431621 -1.51605184]\n",
            " [-0.75873781  1.90163728]\n",
            " [ 0.9106163   1.02530673]\n",
            " [ 0.812419    0.26582026]\n",
            " [ 1.0088136   1.87242626]\n",
            " [ 0.9106163  -0.61051028]\n",
            " [ 1.1070109   2.07690339]\n",
            " [-0.56234321  0.87925164]\n",
            " [ 0.0268406   0.03213212]\n",
            " [-1.83890811 -1.28236369]\n",
            " [-0.0713567   0.20739823]\n",
            " [ 0.9106163  -0.55208824]\n",
            " [ 0.2232352  -0.37682213]\n",
            " [-0.169554    1.6095271 ]\n",
            " [-1.74071081  0.11976517]\n",
            " [-0.66054051 -0.34761112]\n",
            " [ 0.3214325  -0.72735435]\n",
            " [ 0.4196298  -0.46445519]\n",
            " [-0.95513241 -0.96104249]\n",
            " [ 0.1250379   0.09055416]\n",
            " [-0.95513241  0.44108637]\n",
            " [ 0.0268406  -0.55208824]\n",
            " [ 0.9106163  -0.78577639]\n",
            " [-0.0713567   0.06134314]\n",
            " [ 1.1070109  -0.99025351]\n",
            " [ 0.7142217  -1.39920777]\n",
            " [-0.2677513   0.06134314]\n",
            " [-1.34792161 -1.25315268]\n",
            " [-1.15152701 -1.01946453]\n",
            " [ 0.5178271   1.84321524]\n",
            " [ 0.1250379   0.20739823]\n",
            " [-0.56234321  0.47029739]]\n"
          ]
        }
      ]
    },
    {
      "cell_type": "code",
      "source": [
        "#Training the K-NN model on the Training set\n",
        "\n",
        "from sklearn.neighbors import KNeighborsClassifier\n",
        "classifier = KNeighborsClassifier(n_neighbors = 5, metric = 'minkowski', p = 2)\n",
        "classifier.fit(X_train, y_train)"
      ],
      "metadata": {
        "colab": {
          "base_uri": "https://localhost:8080/",
          "height": 75
        },
        "id": "OKQkvcpO-7TT",
        "outputId": "424aac27-4270-4513-c439-3b7f36669a8d"
      },
      "execution_count": 9,
      "outputs": [
        {
          "output_type": "execute_result",
          "data": {
            "text/plain": [
              "KNeighborsClassifier()"
            ],
            "text/html": [
              "<style>#sk-container-id-1 {color: black;}#sk-container-id-1 pre{padding: 0;}#sk-container-id-1 div.sk-toggleable {background-color: white;}#sk-container-id-1 label.sk-toggleable__label {cursor: pointer;display: block;width: 100%;margin-bottom: 0;padding: 0.3em;box-sizing: border-box;text-align: center;}#sk-container-id-1 label.sk-toggleable__label-arrow:before {content: \"▸\";float: left;margin-right: 0.25em;color: #696969;}#sk-container-id-1 label.sk-toggleable__label-arrow:hover:before {color: black;}#sk-container-id-1 div.sk-estimator:hover label.sk-toggleable__label-arrow:before {color: black;}#sk-container-id-1 div.sk-toggleable__content {max-height: 0;max-width: 0;overflow: hidden;text-align: left;background-color: #f0f8ff;}#sk-container-id-1 div.sk-toggleable__content pre {margin: 0.2em;color: black;border-radius: 0.25em;background-color: #f0f8ff;}#sk-container-id-1 input.sk-toggleable__control:checked~div.sk-toggleable__content {max-height: 200px;max-width: 100%;overflow: auto;}#sk-container-id-1 input.sk-toggleable__control:checked~label.sk-toggleable__label-arrow:before {content: \"▾\";}#sk-container-id-1 div.sk-estimator input.sk-toggleable__control:checked~label.sk-toggleable__label {background-color: #d4ebff;}#sk-container-id-1 div.sk-label input.sk-toggleable__control:checked~label.sk-toggleable__label {background-color: #d4ebff;}#sk-container-id-1 input.sk-hidden--visually {border: 0;clip: rect(1px 1px 1px 1px);clip: rect(1px, 1px, 1px, 1px);height: 1px;margin: -1px;overflow: hidden;padding: 0;position: absolute;width: 1px;}#sk-container-id-1 div.sk-estimator {font-family: monospace;background-color: #f0f8ff;border: 1px dotted black;border-radius: 0.25em;box-sizing: border-box;margin-bottom: 0.5em;}#sk-container-id-1 div.sk-estimator:hover {background-color: #d4ebff;}#sk-container-id-1 div.sk-parallel-item::after {content: \"\";width: 100%;border-bottom: 1px solid gray;flex-grow: 1;}#sk-container-id-1 div.sk-label:hover label.sk-toggleable__label {background-color: #d4ebff;}#sk-container-id-1 div.sk-serial::before {content: \"\";position: absolute;border-left: 1px solid gray;box-sizing: border-box;top: 0;bottom: 0;left: 50%;z-index: 0;}#sk-container-id-1 div.sk-serial {display: flex;flex-direction: column;align-items: center;background-color: white;padding-right: 0.2em;padding-left: 0.2em;position: relative;}#sk-container-id-1 div.sk-item {position: relative;z-index: 1;}#sk-container-id-1 div.sk-parallel {display: flex;align-items: stretch;justify-content: center;background-color: white;position: relative;}#sk-container-id-1 div.sk-item::before, #sk-container-id-1 div.sk-parallel-item::before {content: \"\";position: absolute;border-left: 1px solid gray;box-sizing: border-box;top: 0;bottom: 0;left: 50%;z-index: -1;}#sk-container-id-1 div.sk-parallel-item {display: flex;flex-direction: column;z-index: 1;position: relative;background-color: white;}#sk-container-id-1 div.sk-parallel-item:first-child::after {align-self: flex-end;width: 50%;}#sk-container-id-1 div.sk-parallel-item:last-child::after {align-self: flex-start;width: 50%;}#sk-container-id-1 div.sk-parallel-item:only-child::after {width: 0;}#sk-container-id-1 div.sk-dashed-wrapped {border: 1px dashed gray;margin: 0 0.4em 0.5em 0.4em;box-sizing: border-box;padding-bottom: 0.4em;background-color: white;}#sk-container-id-1 div.sk-label label {font-family: monospace;font-weight: bold;display: inline-block;line-height: 1.2em;}#sk-container-id-1 div.sk-label-container {text-align: center;}#sk-container-id-1 div.sk-container {/* jupyter's `normalize.less` sets `[hidden] { display: none; }` but bootstrap.min.css set `[hidden] { display: none !important; }` so we also need the `!important` here to be able to override the default hidden behavior on the sphinx rendered scikit-learn.org. See: https://github.com/scikit-learn/scikit-learn/issues/21755 */display: inline-block !important;position: relative;}#sk-container-id-1 div.sk-text-repr-fallback {display: none;}</style><div id=\"sk-container-id-1\" class=\"sk-top-container\"><div class=\"sk-text-repr-fallback\"><pre>KNeighborsClassifier()</pre><b>In a Jupyter environment, please rerun this cell to show the HTML representation or trust the notebook. <br />On GitHub, the HTML representation is unable to render, please try loading this page with nbviewer.org.</b></div><div class=\"sk-container\" hidden><div class=\"sk-item\"><div class=\"sk-estimator sk-toggleable\"><input class=\"sk-toggleable__control sk-hidden--visually\" id=\"sk-estimator-id-1\" type=\"checkbox\" checked><label for=\"sk-estimator-id-1\" class=\"sk-toggleable__label sk-toggleable__label-arrow\">KNeighborsClassifier</label><div class=\"sk-toggleable__content\"><pre>KNeighborsClassifier()</pre></div></div></div></div></div>"
            ]
          },
          "metadata": {},
          "execution_count": 9
        }
      ]
    },
    {
      "cell_type": "code",
      "source": [
        "#Predicting a new result\n",
        "\n",
        "print(classifier.predict(sc.transform([[30, 87000]])))"
      ],
      "metadata": {
        "colab": {
          "base_uri": "https://localhost:8080/"
        },
        "id": "cnFzHJcC_PhI",
        "outputId": "481701c9-7fc4-4711-c4f5-9e3adc8d9a17"
      },
      "execution_count": 10,
      "outputs": [
        {
          "output_type": "stream",
          "name": "stdout",
          "text": [
            "[0]\n"
          ]
        },
        {
          "output_type": "stream",
          "name": "stderr",
          "text": [
            "/usr/local/lib/python3.10/dist-packages/sklearn/base.py:465: UserWarning: X does not have valid feature names, but StandardScaler was fitted with feature names\n",
            "  warnings.warn(\n"
          ]
        }
      ]
    },
    {
      "cell_type": "code",
      "source": [
        "#Predicting the Test set results\n",
        "y_pred = classifier.predict(X_test)\n",
        "print(np.concatenate((y_pred.reshape(len(y_pred),1), y_test.reshape(len(y_test),1)),1))"
      ],
      "metadata": {
        "colab": {
          "base_uri": "https://localhost:8080/",
          "height": 332
        },
        "id": "Qlitf1xp_z8G",
        "outputId": "7900dd43-51ad-4958-bf0e-b8a3d45234a7"
      },
      "execution_count": 12,
      "outputs": [
        {
          "output_type": "error",
          "ename": "AttributeError",
          "evalue": "'Series' object has no attribute 'reshape'",
          "traceback": [
            "\u001b[0;31m---------------------------------------------------------------------------\u001b[0m",
            "\u001b[0;31mAttributeError\u001b[0m                            Traceback (most recent call last)",
            "\u001b[0;32m<ipython-input-12-fba7ec3d36c7>\u001b[0m in \u001b[0;36m<cell line: 3>\u001b[0;34m()\u001b[0m\n\u001b[1;32m      1\u001b[0m \u001b[0;31m#Predicting the Test set results\u001b[0m\u001b[0;34m\u001b[0m\u001b[0;34m\u001b[0m\u001b[0m\n\u001b[1;32m      2\u001b[0m \u001b[0my_pred\u001b[0m \u001b[0;34m=\u001b[0m \u001b[0mclassifier\u001b[0m\u001b[0;34m.\u001b[0m\u001b[0mpredict\u001b[0m\u001b[0;34m(\u001b[0m\u001b[0mX_test\u001b[0m\u001b[0;34m)\u001b[0m\u001b[0;34m\u001b[0m\u001b[0;34m\u001b[0m\u001b[0m\n\u001b[0;32m----> 3\u001b[0;31m \u001b[0mprint\u001b[0m\u001b[0;34m(\u001b[0m\u001b[0mnp\u001b[0m\u001b[0;34m.\u001b[0m\u001b[0mconcatenate\u001b[0m\u001b[0;34m(\u001b[0m\u001b[0;34m(\u001b[0m\u001b[0my_pred\u001b[0m\u001b[0;34m.\u001b[0m\u001b[0mreshape\u001b[0m\u001b[0;34m(\u001b[0m\u001b[0mlen\u001b[0m\u001b[0;34m(\u001b[0m\u001b[0my_pred\u001b[0m\u001b[0;34m)\u001b[0m\u001b[0;34m,\u001b[0m\u001b[0;36m1\u001b[0m\u001b[0;34m)\u001b[0m\u001b[0;34m,\u001b[0m \u001b[0my_test\u001b[0m\u001b[0;34m.\u001b[0m\u001b[0mreshape\u001b[0m\u001b[0;34m(\u001b[0m\u001b[0mlen\u001b[0m\u001b[0;34m(\u001b[0m\u001b[0my_test\u001b[0m\u001b[0;34m)\u001b[0m\u001b[0;34m,\u001b[0m\u001b[0;36m1\u001b[0m\u001b[0;34m)\u001b[0m\u001b[0;34m)\u001b[0m\u001b[0;34m,\u001b[0m\u001b[0;36m1\u001b[0m\u001b[0;34m)\u001b[0m\u001b[0;34m)\u001b[0m\u001b[0;34m\u001b[0m\u001b[0;34m\u001b[0m\u001b[0m\n\u001b[0m",
            "\u001b[0;32m/usr/local/lib/python3.10/dist-packages/pandas/core/generic.py\u001b[0m in \u001b[0;36m__getattr__\u001b[0;34m(self, name)\u001b[0m\n\u001b[1;32m   6202\u001b[0m         ):\n\u001b[1;32m   6203\u001b[0m             \u001b[0;32mreturn\u001b[0m \u001b[0mself\u001b[0m\u001b[0;34m[\u001b[0m\u001b[0mname\u001b[0m\u001b[0;34m]\u001b[0m\u001b[0;34m\u001b[0m\u001b[0;34m\u001b[0m\u001b[0m\n\u001b[0;32m-> 6204\u001b[0;31m         \u001b[0;32mreturn\u001b[0m \u001b[0mobject\u001b[0m\u001b[0;34m.\u001b[0m\u001b[0m__getattribute__\u001b[0m\u001b[0;34m(\u001b[0m\u001b[0mself\u001b[0m\u001b[0;34m,\u001b[0m \u001b[0mname\u001b[0m\u001b[0;34m)\u001b[0m\u001b[0;34m\u001b[0m\u001b[0;34m\u001b[0m\u001b[0m\n\u001b[0m\u001b[1;32m   6205\u001b[0m \u001b[0;34m\u001b[0m\u001b[0m\n\u001b[1;32m   6206\u001b[0m     \u001b[0;34m@\u001b[0m\u001b[0mfinal\u001b[0m\u001b[0;34m\u001b[0m\u001b[0;34m\u001b[0m\u001b[0m\n",
            "\u001b[0;31mAttributeError\u001b[0m: 'Series' object has no attribute 'reshape'"
          ]
        }
      ]
    },
    {
      "cell_type": "code",
      "source": [
        "#Making the Confusion Matrix\n",
        "\n",
        "from sklearn.metrics import confusion_matrix, accuracy_score\n",
        "cm = confusion_matrix(y_test, y_pred)\n",
        "print(cm)\n",
        "accuracy_score(y_test, y_pred)"
      ],
      "metadata": {
        "colab": {
          "base_uri": "https://localhost:8080/"
        },
        "id": "mNaUqq5fABfd",
        "outputId": "b1958bbb-f14c-45ee-d5b1-6db004997fcb"
      },
      "execution_count": 13,
      "outputs": [
        {
          "output_type": "stream",
          "name": "stdout",
          "text": [
            "[[59  4]\n",
            " [ 3 34]]\n"
          ]
        },
        {
          "output_type": "execute_result",
          "data": {
            "text/plain": [
              "0.93"
            ]
          },
          "metadata": {},
          "execution_count": 13
        }
      ]
    },
    {
      "cell_type": "code",
      "source": [],
      "metadata": {
        "id": "_di9Tvq0Aceg"
      },
      "execution_count": null,
      "outputs": []
    }
  ]
}